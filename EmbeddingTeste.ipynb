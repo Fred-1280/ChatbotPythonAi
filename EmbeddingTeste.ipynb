{
  "nbformat": 4,
  "nbformat_minor": 0,
  "metadata": {
    "colab": {
      "provenance": [],
      "authorship_tag": "ABX9TyOz+dc6B6GXhiFTH9WejOQC",
      "include_colab_link": true
    },
    "kernelspec": {
      "name": "python3",
      "display_name": "Python 3"
    },
    "language_info": {
      "name": "python"
    }
  },
  "cells": [
    {
      "cell_type": "markdown",
      "metadata": {
        "id": "view-in-github",
        "colab_type": "text"
      },
      "source": [
        "<a href=\"https://colab.research.google.com/github/Fred-1280/ChatbotPythonAi/blob/main/EmbeddingTeste.ipynb\" target=\"_parent\"><img src=\"https://colab.research.google.com/assets/colab-badge.svg\" alt=\"Open In Colab\"/></a>"
      ]
    },
    {
      "cell_type": "code",
      "execution_count": null,
      "metadata": {
        "id": "Z21rWxJ66MeW"
      },
      "outputs": [],
      "source": [
        "# pip install -u -q google-generativeai"
      ]
    },
    {
      "cell_type": "code",
      "source": [
        "import numpy as np\n",
        "import pandas as pd\n",
        "import google.generativeai as genai\n",
        "from google.colab import userdata\n",
        "\n",
        "GOOGLE_API_KEY = userdata.get('SECREAT_KEY')\n",
        "genai.configure(api_key=GOOGLE_API_KEY)"
      ],
      "metadata": {
        "id": "sgVny45i6ju0"
      },
      "execution_count": 24,
      "outputs": []
    },
    {
      "cell_type": "code",
      "source": [
        "for m in genai.list_models():\n",
        "  if 'embedContent' in m.supported_generation_methods:\n",
        "    print(m.name)"
      ],
      "metadata": {
        "id": "Vzd56OGs72yd"
      },
      "execution_count": null,
      "outputs": []
    },
    {
      "cell_type": "code",
      "source": [
        "title = \"A próxima geração de IA para desenvolvedores e Google Workspace\"\n",
        "sample_text = (\"Titulo: A próxima geração de IA para desenvolvedores e Google Workspace\"\n",
        "  \"\\n\"\n",
        "  \"Artigo completo:\\n\"\n",
        "  \"\\n\"\n",
        "  \"Gemini API & Google AI Studio: uma mandeira acessível de explorar e criar protótipos com aplicações de IA generativa\")\n",
        "\n",
        "embeddings = genai.embed_content(model=\"models/embedding-001\",\n",
        "                                 content = sample_text,\n",
        "                                 title = title,\n",
        "                                 task_type=\"RETRIEVAL_DOCUMENT\")\n",
        "print(embeddings)"
      ],
      "metadata": {
        "id": "Jl5ua-yNQNUF"
      },
      "execution_count": null,
      "outputs": []
    },
    {
      "cell_type": "code",
      "source": [
        "DOCUMENT1 = {\n",
        "    \"Titulo\": \"David Bowie\",\n",
        "    \"Conteudo\": \"David Bowie, nome artístico de David Robert Jones (Londres, 8 de janeiro de 1947 — Nova Iorque, 10 de janeiro de 2016)  foi um cantor, compositor, ator e produtor musical britânico.\"\n",
        "}\n",
        "\n",
        "DOCUMENT2 = {\n",
        "    \"Titulo\": \"Freddie Mercury\",\n",
        "    \"Conteudo\": \"(nascido Farrokh Bulsara; Cidade de Pedra, 5 de setembro de 1946 — Londres, 24 de novembro de 1991) oi um cantor, pianista e compositor britânico, conhecido pelo seu trabalho com a banda britânica de rock Queen, que integrou como vocalista de 1970 até o ano de sua morte, 1991. É considerado como um dos melhores cantores de todos os tempos.\"\n",
        "}\n",
        "\n",
        "DOCUMENT3 = {\n",
        "    \"Titulo\": \"John Lennon\",\n",
        "    \"Conteudo\": \"John Winston Ono Lennon (Liverpool, 9 de outubro de 1940 – Nova Iorque, 8 de dezembro de 1980) foi um cantor, compositor e ativista da paz britânico que fundou os Beatles, a banda de maior sucesso comercial na história da música popular. Sua parceria de composição com o colega de banda Paul McCartney foi uma das mais célebres da história da música.\"\n",
        "}\n",
        "\n",
        "documents = [DOCUMENT1, DOCUMENT2, DOCUMENT3]"
      ],
      "metadata": {
        "id": "Hn2_uh4nSkEO"
      },
      "execution_count": 67,
      "outputs": []
    },
    {
      "cell_type": "code",
      "source": [
        "df = pd.DataFrame(documents)\n",
        "df.columns = [\"Titulo\", \"Conteudo\"]\n",
        "df"
      ],
      "metadata": {
        "id": "0mbW8jThUGtG"
      },
      "execution_count": null,
      "outputs": []
    },
    {
      "cell_type": "code",
      "source": [
        "model = \"models/embedding-001\""
      ],
      "metadata": {
        "id": "8_yilXjVVNhU"
      },
      "execution_count": 69,
      "outputs": []
    },
    {
      "cell_type": "code",
      "source": [
        "def emed_fn(title, text):\n",
        "  return genai.embed_content(model=model,\n",
        "                                 content = text,\n",
        "                                 title = title,\n",
        "                                 task_type=\"RETRIEVAL_DOCUMENT\")[\"embedding\"]"
      ],
      "metadata": {
        "id": "R6dVouddVV70"
      },
      "execution_count": 70,
      "outputs": []
    },
    {
      "cell_type": "code",
      "source": [
        "df[\"Embeddings\"] = df.apply(lambda row: emed_fn(row[\"Titulo\"], row[\"Conteudo\"]), axis=1)\n",
        "df"
      ],
      "metadata": {
        "id": "eSd24d73WyAF"
      },
      "execution_count": null,
      "outputs": []
    },
    {
      "cell_type": "code",
      "source": [
        "def gerar_e_buscar_consulta(consulta, base, model):\n",
        "  embedding_da_consulta = genai.embed_content(model=model,\n",
        "                                 content = consulta,\n",
        "                                 task_type=\"RETRIEVAL_QUERY\")[\"embedding\"]\n",
        "\n",
        "  produtos_escalares = np.dot(np.stack(df[\"Embeddings\"]), embedding_da_consulta)\n",
        "\n",
        "  indice = np.argmax(produtos_escalares)\n",
        "  return df.iloc[indice][\"Conteudo\"]"
      ],
      "metadata": {
        "id": "GUtHgzAmZ033"
      },
      "execution_count": 72,
      "outputs": []
    },
    {
      "cell_type": "code",
      "source": [
        "consulta = 'Londres, 8 de janeiro de 1947'\n",
        "\n",
        "trecho = gerar_e_buscar_consulta(consulta, df, model)\n",
        "\n",
        "print(trecho)"
      ],
      "metadata": {
        "id": "USzuvCOqe0Tu"
      },
      "execution_count": null,
      "outputs": []
    }
  ]
}