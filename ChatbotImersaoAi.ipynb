{
  "nbformat": 4,
  "nbformat_minor": 0,
  "metadata": {
    "colab": {
      "provenance": [],
      "authorship_tag": "ABX9TyN2qASv2IQq2Cu9CvaC0WuQ",
      "include_colab_link": true
    },
    "kernelspec": {
      "name": "python3",
      "display_name": "Python 3"
    },
    "language_info": {
      "name": "python"
    }
  },
  "cells": [
    {
      "cell_type": "markdown",
      "metadata": {
        "id": "view-in-github",
        "colab_type": "text"
      },
      "source": [
        "<a href=\"https://colab.research.google.com/github/Fred-1280/ChatbotPythonAi/blob/main/ChatbotImersaoAi.ipynb\" target=\"_parent\"><img src=\"https://colab.research.google.com/assets/colab-badge.svg\" alt=\"Open In Colab\"/></a>"
      ]
    },
    {
      "cell_type": "markdown",
      "source": [
        "Instalação do SDK do Google"
      ],
      "metadata": {
        "id": "ndcRjAIf2cPa"
      }
    },
    {
      "cell_type": "code",
      "source": [
        "# Código para instalação do SDK do Google\n",
        "# pip install -q -u google-generativeai"
      ],
      "metadata": {
        "id": "S6IjLgS41__6"
      },
      "execution_count": null,
      "outputs": []
    },
    {
      "cell_type": "markdown",
      "source": [
        "Importa a biblioteca do Google e configura a API Key"
      ],
      "metadata": {
        "id": "7l_lEFvL2kc0"
      }
    },
    {
      "cell_type": "code",
      "execution_count": 20,
      "metadata": {
        "id": "RPu-oaoUlLUc"
      },
      "outputs": [],
      "source": [
        "import google.generativeai as genai\n",
        "from google.colab import userdata\n",
        "\n",
        "GOOGLE_API_KEY = userdata.get('SECREAT_KEY')\n",
        "genai.configure(api_key=GOOGLE_API_KEY)"
      ]
    },
    {
      "cell_type": "markdown",
      "source": [
        "Lista os modelos disponiveis do Gemini"
      ],
      "metadata": {
        "id": "OLHYAFVC3JzJ"
      }
    },
    {
      "cell_type": "code",
      "source": [
        "for m in genai.list_models():\n",
        "  if 'generateContent' in m.supported_generation_methods:\n",
        "    print(m.name)"
      ],
      "metadata": {
        "id": "IT5F3b283Qmf",
        "colab": {
          "base_uri": "https://localhost:8080/",
          "height": 139
        },
        "outputId": "d08f0df2-db5f-4798-dc95-dfaca87059a2"
      },
      "execution_count": 21,
      "outputs": [
        {
          "output_type": "stream",
          "name": "stdout",
          "text": [
            "models/gemini-1.0-pro\n",
            "models/gemini-1.0-pro-001\n",
            "models/gemini-1.0-pro-latest\n",
            "models/gemini-1.0-pro-vision-latest\n",
            "models/gemini-1.5-pro-latest\n",
            "models/gemini-pro\n",
            "models/gemini-pro-vision\n"
          ]
        }
      ]
    },
    {
      "cell_type": "markdown",
      "source": [
        "Cria parametros de configuração para geração das respostas"
      ],
      "metadata": {
        "id": "JcYmIh4u7HYB"
      }
    },
    {
      "cell_type": "code",
      "source": [
        "generation_config = {\n",
        "    # Limita o número maximo de respostas\n",
        "    'candidate_count': 1,\n",
        "    # Seta o número de probabilidade de exatidão das respostas\n",
        "    'temperature': 0.5\n",
        "}"
      ],
      "metadata": {
        "id": "hSBkzVk_5gKK"
      },
      "execution_count": 22,
      "outputs": []
    },
    {
      "cell_type": "markdown",
      "source": [
        "Cria parametros de configuração de segurança"
      ],
      "metadata": {
        "id": "jZnN6wUa7ZOr"
      }
    },
    {
      "cell_type": "code",
      "source": [
        "safety_settings = {\n",
        "    # Seta o tipo do filtro para conteudo de assedio\n",
        "    'Harassment': 'BLOCK_NONE',\n",
        "    # Seta o tipo do filtro para conteudo de odio\n",
        "    'Hate': 'BLOCK_NONE',\n",
        "    # Seta o tipo do filtro para conteudo sexual\n",
        "    'SEXUAL': 'BLOCK_NONE',\n",
        "    # Seta o tipo do filtro para conteudo perigoso,\n",
        "    'DANGEROUS': 'BLOCK_NONE'\n",
        "}"
      ],
      "metadata": {
        "id": "jKHVIe_r7g2D"
      },
      "execution_count": 23,
      "outputs": []
    },
    {
      "cell_type": "markdown",
      "source": [
        "Inicializa uma instancia do modelo desejado, com as configurações criadas"
      ],
      "metadata": {
        "id": "NGYz7sjs4h0p"
      }
    },
    {
      "cell_type": "code",
      "source": [
        "model = genai.GenerativeModel(model_name='gemini-1.0-pro',\n",
        "                              generation_config=generation_config,\n",
        "                              safety_settings=safety_settings)"
      ],
      "metadata": {
        "id": "dDw9_92esCvH"
      },
      "execution_count": 24,
      "outputs": []
    },
    {
      "cell_type": "markdown",
      "source": [
        "Faz uma requisão para geração de conteudo e imprime a resposta"
      ],
      "metadata": {
        "id": "rlx5pSCuLRJ4"
      }
    },
    {
      "cell_type": "code",
      "source": [
        "#response = model.generate_content('Crie um soneto inspirado no brasil')\n",
        "#print(response.text)"
      ],
      "metadata": {
        "id": "PDQA40CtvJLL"
      },
      "execution_count": 25,
      "outputs": []
    },
    {
      "cell_type": "markdown",
      "source": [
        "Inicia um chat"
      ],
      "metadata": {
        "id": "dyr65pQcLeD1"
      }
    },
    {
      "cell_type": "code",
      "source": [
        "chat = model.start_chat(history=[])"
      ],
      "metadata": {
        "id": "nNe31CFU1kOn"
      },
      "execution_count": 26,
      "outputs": []
    },
    {
      "cell_type": "code",
      "source": [
        "prompt = input(\"Esperando prompt:\")\n",
        "\n",
        "while prompt != \"fim\":\n",
        "  response = chat.send_message(prompt)\n",
        "  print('Resposta: ', response.text, '\\n')\n",
        "  prompt = input(\"Esperando prompt:\")"
      ],
      "metadata": {
        "id": "6SAO72mpMSKH"
      },
      "execution_count": null,
      "outputs": []
    },
    {
      "cell_type": "code",
      "source": [
        "#Melhorando a visualização\n",
        "#Código disponível em https://ai.google.dev/tutorials/python_quickstart#import_packages\n",
        "\n",
        "import textwrap\n",
        "\n",
        "from IPython.display import display\n",
        "from IPython.display import Markdown\n",
        "\n",
        "def to_markdown(text):\n",
        "  text = text.replace('\"', '*')\n",
        "  return Markdown(textwrap.indent(text, '> ', predicate=lambda _: True))\n",
        "\n",
        "#Imprimindo o histórico\n",
        "for message in chat.history:\n",
        "  display(to_markdown(f'**{message.role}**: {message.parts[0].text}'))\n",
        "  print('------------------------------')"
      ],
      "metadata": {
        "colab": {
          "base_uri": "https://localhost:8080/",
          "height": 1000
        },
        "id": "kY_7GV0YOMlY",
        "outputId": "b8fc8b7f-aa7d-4fc3-d622-d42379148eff"
      },
      "execution_count": 30,
      "outputs": [
        {
          "output_type": "display_data",
          "data": {
            "text/plain": [
              "<IPython.core.display.Markdown object>"
            ],
            "text/markdown": "> **user**: Quantas calorias tem em media um copo de suco de laranja?"
          },
          "metadata": {}
        },
        {
          "output_type": "stream",
          "name": "stdout",
          "text": [
            "------------------------------\n"
          ]
        },
        {
          "output_type": "display_data",
          "data": {
            "text/plain": [
              "<IPython.core.display.Markdown object>"
            ],
            "text/markdown": "> **model**: 110-120 calorias"
          },
          "metadata": {}
        },
        {
          "output_type": "stream",
          "name": "stdout",
          "text": [
            "------------------------------\n"
          ]
        },
        {
          "output_type": "display_data",
          "data": {
            "text/plain": [
              "<IPython.core.display.Markdown object>"
            ],
            "text/markdown": "> **user**: Olá"
          },
          "metadata": {}
        },
        {
          "output_type": "stream",
          "name": "stdout",
          "text": [
            "------------------------------\n"
          ]
        },
        {
          "output_type": "display_data",
          "data": {
            "text/plain": [
              "<IPython.core.display.Markdown object>"
            ],
            "text/markdown": "> **model**: Olá! Como posso ajudá-lo hoje?"
          },
          "metadata": {}
        },
        {
          "output_type": "stream",
          "name": "stdout",
          "text": [
            "------------------------------\n"
          ]
        },
        {
          "output_type": "display_data",
          "data": {
            "text/plain": [
              "<IPython.core.display.Markdown object>"
            ],
            "text/markdown": "> **user**: Quais horários dos voos de Belo Horizonte a São Paulo?"
          },
          "metadata": {}
        },
        {
          "output_type": "stream",
          "name": "stdout",
          "text": [
            "------------------------------\n"
          ]
        },
        {
          "output_type": "display_data",
          "data": {
            "text/plain": [
              "<IPython.core.display.Markdown object>"
            ],
            "text/markdown": "> **model**: **Voos diretos de Belo Horizonte (CNF) para São Paulo (GRU)**\n> \n> * **Azul Linhas Aéreas:**\n>     * 06h00\n>     * 07h00\n>     * 08h00\n>     * 09h00\n>     * 10h00\n>     * 11h00\n>     * 12h00\n>     * 13h00\n>     * 14h00\n>     * 15h00\n>     * 16h00\n>     * 17h00\n>     * 18h00\n>     * 19h00\n>     * 20h00\n>     * 21h00\n> * **Gol Linhas Aéreas:**\n>     * 06h15\n>     * 07h15\n>     * 08h15\n>     * 09h15\n>     * 10h15\n>     * 11h15\n>     * 12h15\n>     * 13h15\n>     * 14h15\n>     * 15h15\n>     * 16h15\n>     * 17h15\n>     * 18h15\n>     * 19h15\n>     * 20h15\n>     * 21h15\n> \n> **Voos com conexão**\n> \n> Existem também voos com conexão em outras cidades, como Brasília (BSB) ou Rio de Janeiro (GIG). Esses voos podem ter horários diferentes dos voos diretos.\n> \n> Para obter informações atualizadas e precisas sobre horários de voos, é recomendável verificar diretamente com as companhias aéreas ou com um site de busca de voos."
          },
          "metadata": {}
        },
        {
          "output_type": "stream",
          "name": "stdout",
          "text": [
            "------------------------------\n"
          ]
        }
      ]
    }
  ]
}